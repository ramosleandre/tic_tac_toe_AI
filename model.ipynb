{
 "cells": [
  {
   "cell_type": "code",
   "execution_count": 1,
   "metadata": {},
   "outputs": [],
   "source": [
    "import torch\n",
    "import torch.nn as nn\n",
    "import pandas as pd\n",
    "from torch.utils.data import DataLoader, random_split\n",
    "from conversion import CSVToTensor\n",
    "\n",
    "class Model(nn.Module):\n",
    "    def __init__(self):\n",
    "        super(Model, self).__init__()\n",
    "        self.input_size = 9\n",
    "        self.output_size = 9\n",
    "        self.hidden_size = 2*27\n",
    "\n",
    "        self.W1 = nn.Parameter(torch.randn(self.input_size, self.hidden_size))\n",
    "        self.b1 = nn.Parameter(torch.randn(self.hidden_size))\n",
    "        self.W2 = nn.Parameter(torch.randn(self.hidden_size, self.output_size))\n",
    "        self.b2 = nn.Parameter(torch.randn(self.output_size))\n",
    "        self.relu = nn.ReLU()\n",
    "        # self.dropout = nn.Dropout(0.3)\n",
    "        self.crossloss = nn.CrossEntropyLoss()\n",
    "        self.optimizer = torch.optim.Adam(self.parameters(), lr=0.001)\n",
    "        self.device = torch.device('cuda' if torch.cuda.is_available() else 'cpu')\n",
    "        self.train_data = None\n",
    "        self.val_data = None\n",
    "    \n",
    "    def forward(self, x):\n",
    "        x = x @ self.W1 + self.b1\n",
    "        x = self.relu(x)\n",
    "        x = x @ self.W2 + self.b2\n",
    "        # x = self.dropout(x)\n",
    "        return x\n",
    "\n",
    "    def load_data(self, file_path):\n",
    "        dataloader = CSVToTensor(file_path)\n",
    "        dataloader.create_all_tensor()\n",
    "        dataset = dataloader.create_a_dataset()\n",
    "\n",
    "        train_size = int(0.8 * len(dataset))\n",
    "        val_size = len(dataset) - train_size\n",
    "        self.train_data, self.val_data = random_split(dataset, [train_size, val_size])\n",
    "        self.train_data = DataLoader(self.train_data, batch_size=16, shuffle=True)\n",
    "        self.val_data = DataLoader(self.val_data, batch_size=16, shuffle=True)\n",
    "\n",
    "    def train_model(self, epochs):\n",
    "        self.to(self.device)\n",
    "        self.train()\n",
    "        for epoch in range(epochs):\n",
    "            epoch_loss = 0\n",
    "            for src, trg in self.train_data:\n",
    "                src = src.to(self.device)\n",
    "                trg = trg.to(self.device)\n",
    "                self.optimizer.zero_grad()\n",
    "                output = self.forward(src)\n",
    "                loss = self.crossloss(output, trg.argmax(dim=1))\n",
    "                loss.backward()\n",
    "                self.optimizer.step()\n",
    "                epoch_loss += loss.item()\n",
    "            avg_loss = epoch_loss / len(self.train_data)\n",
    "            print(f\"Epoch: {epoch}, Loss: {avg_loss:.4f}\")\n",
    "    \n",
    "    \n",
    "\n",
    "    "
   ]
  },
  {
   "cell_type": "code",
   "execution_count": 21,
   "metadata": {},
   "outputs": [
    {
     "name": "stdout",
     "output_type": "stream",
     "text": [
      "Epoch: 0, Loss: 2.2083\n",
      "Epoch: 1, Loss: 2.2043\n",
      "Epoch: 2, Loss: 2.1989\n",
      "Epoch: 3, Loss: 2.1995\n",
      "Epoch: 4, Loss: 2.1927\n",
      "Epoch: 5, Loss: 2.1876\n",
      "Epoch: 6, Loss: 2.1841\n",
      "Epoch: 7, Loss: 2.1793\n",
      "Epoch: 8, Loss: 2.1736\n",
      "Epoch: 9, Loss: 2.1712\n",
      "Epoch: 10, Loss: 2.1681\n"
     ]
    }
   ],
   "source": [
    "if __name__ == '__main__':\n",
    "    model = Model()\n",
    "    # choose the dataset file path\n",
    "    model.load_data('./Datasets/tic_tac_toe_500_games.csv')\n",
    "    # choose the number of epochs\n",
    "    with torch.no_grad():\n",
    "        model.W1.copy_(torch.zeros(model.input_size, model.hidden_size))\n",
    "        model.b1.copy_(torch.ones(model.hidden_size))\n",
    "        model.W2.copy_(torch.zeros(model.hidden_size, model.output_size))\n",
    "        model.b2.copy_(torch.ones(model.output_size))\n",
    "    model.train_model(11)"
   ]
  }
 ],
 "metadata": {
  "kernelspec": {
   "display_name": "Python 3",
   "language": "python",
   "name": "python3"
  },
  "language_info": {
   "codemirror_mode": {
    "name": "ipython",
    "version": 3
   },
   "file_extension": ".py",
   "mimetype": "text/x-python",
   "name": "python",
   "nbconvert_exporter": "python",
   "pygments_lexer": "ipython3",
   "version": "3.12.3"
  }
 },
 "nbformat": 4,
 "nbformat_minor": 2
}
