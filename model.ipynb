{
 "cells": [
  {
   "cell_type": "code",
   "execution_count": 20,
   "metadata": {},
   "outputs": [],
   "source": [
    "import torch\n",
    "import torch.nn as nn\n",
    "import pandas as pd\n",
    "from torch.utils.data import DataLoader, random_split\n",
    "from conversion import CSVToTensor\n",
    "\n",
    "class Model(nn.Module):\n",
    "    def __init__(self):\n",
    "        super(Model, self).__init__()\n",
    "        self.input_size = 9\n",
    "        self.output_size = 9\n",
    "        self.hidden_size = 2*27\n",
    "\n",
    "        self.x0 = None\n",
    "        self.x1 = None\n",
    "        self.x2 = None\n",
    "        self.x3 = None\n",
    "\n",
    "        self.W1 = nn.Parameter(torch.randn(self.input_size, self.hidden_size))\n",
    "        self.b1 = nn.Parameter(torch.randn(self.hidden_size))\n",
    "        self.W2 = nn.Parameter(torch.randn(self.hidden_size, self.output_size))\n",
    "        self.b2 = nn.Parameter(torch.randn(self.output_size))\n",
    "        self.relu = nn.ReLU()\n",
    "        # self.dropout = nn.Dropout(0.3)\n",
    "        self.crossloss = nn.CrossEntropyLoss()\n",
    "        self.optimizer = torch.optim.Adam(self.parameters(), lr=0.001)\n",
    "        self.device = torch.device('cuda' if torch.cuda.is_available() else 'cpu')\n",
    "        self.train_data = None\n",
    "        self.val_data = None\n",
    "    \n",
    "    def forward(self, x):\n",
    "        self.x0 = x\n",
    "        self.x1 = x @ self.W1 + self.b1\n",
    "        self.x2 = self.relu(self.x1)\n",
    "        self.x3 = self.x2 @ self.W2 + self.b2\n",
    "        # x = self.dropout(x)\n",
    "        return self.x3\n",
    "\n",
    "    def load_data(self, file_path):\n",
    "        dataloader = CSVToTensor(file_path)\n",
    "        dataloader.create_all_tensor()\n",
    "        dataset = dataloader.create_a_dataset()\n",
    "\n",
    "        train_size = int(0.8 * len(dataset))\n",
    "        val_size = len(dataset) - train_size\n",
    "        self.train_data, self.val_data = random_split(dataset, [train_size, val_size])\n",
    "        self.train_data = DataLoader(self.train_data, batch_size=16, shuffle=True)\n",
    "        self.val_data = DataLoader(self.val_data, batch_size=16, shuffle=True)\n",
    "\n",
    "    def train_model(self, epochs):\n",
    "        self.to(self.device)\n",
    "        self.train()\n",
    "        for epoch in range(epochs):\n",
    "            epoch_loss = 0\n",
    "            for src, trg in self.train_data:\n",
    "                src = src.to(self.device)\n",
    "                trg = trg.to(self.device)\n",
    "                self.optimizer.zero_grad()\n",
    "                output = self.forward(src)\n",
    "                loss = self.crossloss(output, trg.argmax(dim=1))\n",
    "                loss.backward()\n",
    "                self.optimizer.step()\n",
    "                epoch_loss += loss.item()\n",
    "            avg_loss = epoch_loss / len(self.train_data)\n",
    "            print(f\"Epoch: {epoch}, Loss: {avg_loss:.4f}\")\n",
    "    \n",
    "    \n",
    "\n",
    "    "
   ]
  },
  {
   "cell_type": "code",
   "execution_count": null,
   "metadata": {},
   "outputs": [],
   "source": [
    "# if __name__ == '__main__':\n",
    "#     model = Model()\n",
    "#     # choose the dataset file path\n",
    "#     model.load_data('./Datasets/tic_tac_toe_500_games.csv')\n",
    "#     # choose the number of epochs\n",
    "#     with torch.no_grad():\n",
    "#         model.W1.copy_(torch.zeros(model.input_size, model.hidden_size))\n",
    "#         model.b1.copy_(torch.ones(model.hidden_size))\n",
    "#         model.W2.copy_(torch.zeros(model.hidden_size, model.output_size))\n",
    "#         model.b2.copy_(torch.ones(model.output_size))\n",
    "#     model.train_model(11)"
   ]
  },
  {
   "cell_type": "code",
   "execution_count": 21,
   "metadata": {},
   "outputs": [],
   "source": [
    "M = Model()"
   ]
  },
  {
   "cell_type": "code",
   "execution_count": 22,
   "metadata": {},
   "outputs": [
    {
     "name": "stdout",
     "output_type": "stream",
     "text": [
      "tensor([[1., 0., 1.],\n",
      "        [0., 0., 0.],\n",
      "        [0., 0., 0.]])\n",
      "-----------------\n",
      "tensor([[1., 1., 0.],\n",
      "        [0., 0., 0.],\n",
      "        [0., 0., 0.]])\n",
      "-----------------\n",
      "tensor([[0., 1., 1.],\n",
      "        [0., 0., 0.],\n",
      "        [0., 0., 0.]])\n"
     ]
    }
   ],
   "source": [
    "mytensor1 = torch.tensor([[1,0,1],[0,0,0],[0,0,0]], dtype=torch.float32)\n",
    "mytensor1 = mytensor1.reshape(1,9)\n",
    "# the output should be [0,2,0,0,0,0,0,0,0]\n",
    "print(mytensor1.view(3,3))\n",
    "print(\"-----------------\")\n",
    "mytensor2 = torch.tensor([[1,1,0],[0,0,0],[0,0,0]], dtype=torch.float32)\n",
    "mytensor2 = mytensor2.reshape(1,9)\n",
    "# the output should be [0,0,2,0,0,0,0,0,0]\n",
    "print(mytensor2.view(3,3))\n",
    "print(\"-----------------\")\n",
    "mytensor3 = torch.tensor([[0,1,1],[0,0,0],[0,0,0]], dtype=torch.float32)\n",
    "mytensor3 = mytensor3.reshape(1,9)\n",
    "# the output should be [2,0,0,0,0,0,0,0,0]\n",
    "print(mytensor3.view(3,3))\n"
   ]
  },
  {
   "cell_type": "code",
   "execution_count": 24,
   "metadata": {},
   "outputs": [
    {
     "name": "stdout",
     "output_type": "stream",
     "text": [
      "Parameter containing:\n",
      "tensor([[1., 0., 0., 0., 0., 0., 0., 0., 0.],\n",
      "        [0., 1., 0., 0., 0., 0., 0., 0., 0.],\n",
      "        [0., 0., 1., 0., 0., 0., 0., 0., 0.],\n",
      "        [0., 0., 0., 1., 0., 0., 0., 0., 0.],\n",
      "        [0., 0., 0., 0., 1., 0., 0., 0., 0.],\n",
      "        [0., 0., 0., 0., 0., 1., 0., 0., 0.],\n",
      "        [0., 0., 0., 0., 0., 0., 1., 0., 0.],\n",
      "        [0., 0., 0., 0., 0., 0., 0., 1., 0.],\n",
      "        [0., 0., 0., 0., 0., 0., 0., 0., 1.],\n",
      "        [0., 0., 0., 0., 0., 0., 0., 0., 0.],\n",
      "        [0., 0., 0., 0., 0., 0., 0., 0., 0.],\n",
      "        [0., 0., 0., 0., 0., 0., 0., 0., 0.],\n",
      "        [0., 0., 0., 0., 0., 0., 0., 0., 0.],\n",
      "        [0., 0., 0., 0., 0., 0., 0., 0., 0.],\n",
      "        [0., 0., 0., 0., 0., 0., 0., 0., 0.],\n",
      "        [0., 0., 0., 0., 0., 0., 0., 0., 0.],\n",
      "        [0., 0., 0., 0., 0., 0., 0., 0., 0.],\n",
      "        [0., 0., 0., 0., 0., 0., 0., 0., 0.],\n",
      "        [0., 0., 0., 0., 0., 0., 0., 0., 0.],\n",
      "        [0., 0., 0., 0., 0., 0., 0., 0., 0.],\n",
      "        [0., 0., 0., 0., 0., 0., 0., 0., 0.],\n",
      "        [0., 0., 0., 0., 0., 0., 0., 0., 0.],\n",
      "        [0., 0., 0., 0., 0., 0., 0., 0., 0.],\n",
      "        [0., 0., 0., 0., 0., 0., 0., 0., 0.],\n",
      "        [0., 0., 0., 0., 0., 0., 0., 0., 0.],\n",
      "        [0., 0., 0., 0., 0., 0., 0., 0., 0.],\n",
      "        [0., 0., 0., 0., 0., 0., 0., 0., 0.],\n",
      "        [0., 0., 0., 0., 0., 0., 0., 0., 0.],\n",
      "        [0., 0., 0., 0., 0., 0., 0., 0., 0.],\n",
      "        [0., 0., 0., 0., 0., 0., 0., 0., 0.],\n",
      "        [0., 0., 0., 0., 0., 0., 0., 0., 0.],\n",
      "        [0., 0., 0., 0., 0., 0., 0., 0., 0.],\n",
      "        [0., 0., 0., 0., 0., 0., 0., 0., 0.],\n",
      "        [0., 0., 0., 0., 0., 0., 0., 0., 0.],\n",
      "        [0., 0., 0., 0., 0., 0., 0., 0., 0.],\n",
      "        [0., 0., 0., 0., 0., 0., 0., 0., 0.],\n",
      "        [0., 0., 0., 0., 0., 0., 0., 0., 0.],\n",
      "        [0., 0., 0., 0., 0., 0., 0., 0., 0.],\n",
      "        [0., 0., 0., 0., 0., 0., 0., 0., 0.],\n",
      "        [0., 0., 0., 0., 0., 0., 0., 0., 0.],\n",
      "        [0., 0., 0., 0., 0., 0., 0., 0., 0.],\n",
      "        [0., 0., 0., 0., 0., 0., 0., 0., 0.],\n",
      "        [0., 0., 0., 0., 0., 0., 0., 0., 0.],\n",
      "        [0., 0., 0., 0., 0., 0., 0., 0., 0.],\n",
      "        [0., 0., 0., 0., 0., 0., 0., 0., 0.],\n",
      "        [0., 0., 0., 0., 0., 0., 0., 0., 0.],\n",
      "        [0., 0., 0., 0., 0., 0., 0., 0., 0.],\n",
      "        [0., 0., 0., 0., 0., 0., 0., 0., 0.],\n",
      "        [0., 0., 0., 0., 0., 0., 0., 0., 0.],\n",
      "        [0., 0., 0., 0., 0., 0., 0., 0., 0.],\n",
      "        [0., 0., 0., 0., 0., 0., 0., 0., 0.],\n",
      "        [0., 0., 0., 0., 0., 0., 0., 0., 0.],\n",
      "        [0., 0., 0., 0., 0., 0., 0., 0., 0.],\n",
      "        [0., 0., 0., 0., 0., 0., 0., 0., 0.]], requires_grad=True)\n"
     ]
    }
   ],
   "source": [
    "with torch.no_grad():\n",
    "    M.W1.copy_(torch.zeros(M.input_size, M.hidden_size))\n",
    "    M.b1.copy_(torch.zeros(M.hidden_size))\n",
    "    M.W2.copy_(torch.zeros(M.hidden_size, M.output_size))\n",
    "    M.b2.copy_(torch.zeros(M.output_size))\n",
    "\n",
    "    M.W1[0, 1] = 2\n",
    "    M.W1[0, 0] = -2\n",
    "\n",
    "    M.W1[1,1] = -2\n",
    "    M.W1[1, 2] = 2\n",
    "    \n",
    "    M.W1[2, 0] = 2\n",
    "    M.W1[2, 2] = -2\n",
    "\n",
    "    M.W2[0:M.output_size , 0:M.output_size] = torch.eye(M.output_size)\n",
    "# print(M.W1)\n",
    "# print(M.b1)\n",
    "print(M.W2)"
   ]
  },
  {
   "cell_type": "code",
   "execution_count": 33,
   "metadata": {},
   "outputs": [
    {
     "name": "stdout",
     "output_type": "stream",
     "text": [
      "tensor([[0., 1., 1., 0., 0., 0., 0., 0., 0.]])\n",
      "----------------\n",
      "tensor([[2., 0., 0., 0., 0., 0., 0., 0., 0.]], grad_fn=<AddBackward0>)\n",
      "----------------\n",
      "Output argmax :\n"
     ]
    },
    {
     "data": {
      "text/plain": [
       "tensor(0)"
      ]
     },
     "execution_count": 33,
     "metadata": {},
     "output_type": "execute_result"
    }
   ],
   "source": [
    "output = M.forward(mytensor3)\n",
    "x0 = M.x0\n",
    "x1 = M.x1\n",
    "x2 = M.x2\n",
    "x3 = M.x3\n",
    "\n",
    "print(x0)\n",
    "print(\"----------------\")\n",
    "print(output)\n",
    "print(\"----------------\")\n",
    "\n",
    "print(\"Output argmax :\")\n",
    "output.argmax()\n",
    "# print(output.argmax())\n",
    "# loss = mytensor1 - output\n",
    "# loss.sum()"
   ]
  },
  {
   "cell_type": "code",
   "execution_count": 109,
   "metadata": {},
   "outputs": [],
   "source": [
    "f1 = lambda in0, out0: out0-in0"
   ]
  }
 ],
 "metadata": {
  "kernelspec": {
   "display_name": "Python 3",
   "language": "python",
   "name": "python3"
  },
  "language_info": {
   "codemirror_mode": {
    "name": "ipython",
    "version": 3
   },
   "file_extension": ".py",
   "mimetype": "text/x-python",
   "name": "python",
   "nbconvert_exporter": "python",
   "pygments_lexer": "ipython3",
   "version": "3.12.3"
  }
 },
 "nbformat": 4,
 "nbformat_minor": 2
}
