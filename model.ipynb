{
 "cells": [
  {
   "cell_type": "code",
   "execution_count": 2,
   "metadata": {},
   "outputs": [],
   "source": [
    "import torch\n",
    "import torch.nn as nn\n",
    "import pandas as pd\n",
    "from torch.utils.data import DataLoader, random_split\n",
    "from conversion import CSVToTensor\n",
    "\n",
    "class Model(nn.Module):\n",
    "    def __init__(self):\n",
    "        super(Model, self).__init__()\n",
    "        self.input_size = 9\n",
    "        self.output_size = 9\n",
    "        self.hidden_size = 2*27\n",
    "\n",
    "        self.x0 = None\n",
    "        self.x1 = None\n",
    "        self.x2 = None\n",
    "        self.x3 = None\n",
    "\n",
    "        self.W1 = nn.Parameter(torch.randn(self.input_size, self.hidden_size))\n",
    "        self.b1 = nn.Parameter(torch.randn(self.hidden_size))\n",
    "\n",
    "        self.W2 = nn.Parameter(torch.randn(self.hidden_size, self.output_size))\n",
    "        self.b2 = nn.Parameter(torch.randn(self.output_size))\n",
    "        self.relu = nn.ReLU()\n",
    "        # self.dropout = nn.Dropout(0.3)\n",
    "        self.crossloss = nn.CrossEntropyLoss()\n",
    "        self.optimizer = torch.optim.Adam(self.parameters(), lr=0.001)\n",
    "        self.device = torch.device('cuda' if torch.cuda.is_available() else 'cpu')\n",
    "        self.train_data = None\n",
    "        self.val_data = None\n",
    "    \n",
    "    def forward(self, x):\n",
    "        self.x0 = x\n",
    "        self.x1 = x @ self.W1 + self.b1\n",
    "        self.x2 = self.relu(self.x1)\n",
    "        self.x3 = self.x2 @ self.W2 + self.b2\n",
    "        # x = self.dropout(x)\n",
    "        \n",
    "        return self.x3\n",
    "\n",
    "    def load_data(self, file_path):\n",
    "        dataloader = CSVToTensor(file_path)\n",
    "        dataloader.create_all_tensor()\n",
    "        dataset = dataloader.create_a_dataset()\n",
    "\n",
    "        train_size = int(0.8 * len(dataset))\n",
    "        val_size = len(dataset) - train_size\n",
    "        self.train_data, self.val_data = random_split(dataset, [train_size, val_size])\n",
    "        self.train_data = DataLoader(self.train_data, batch_size=16, shuffle=True)\n",
    "        self.val_data = DataLoader(self.val_data, batch_size=16, shuffle=True)\n",
    "\n",
    "    def train_model(self, epochs):\n",
    "        self.to(self.device)\n",
    "        self.train()\n",
    "        for epoch in range(epochs):\n",
    "            epoch_loss = 0\n",
    "            for src, trg in self.train_data:\n",
    "                src = src.to(self.device)\n",
    "                trg = trg.to(self.device)\n",
    "                self.optimizer.zero_grad()\n",
    "                output = self.forward(src)\n",
    "                loss = self.crossloss(output, trg.argmax(dim=1))\n",
    "                loss.backward()\n",
    "                self.optimizer.step()\n",
    "                epoch_loss += loss.item()\n",
    "            avg_loss = epoch_loss / len(self.train_data)\n",
    "            print(f\"Epoch: {epoch}, Loss: {avg_loss:.4f}\")\n",
    "    "
   ]
  },
  {
   "cell_type": "code",
   "execution_count": null,
   "metadata": {},
   "outputs": [],
   "source": [
    "# if __name__ == '__main__':\n",
    "#     model = Model()\n",
    "#     # choose the dataset file path\n",
    "#     model.load_data('./Datasets/tic_tac_toe_500_games.csv')\n",
    "#     # choose the number of epochs\n",
    "#     with torch.no_grad():\n",
    "#         model.W1.copy_(torch.zeros(model.input_size, model.hidden_size))\n",
    "#         model.b1.copy_(torch.ones(model.hidden_size))\n",
    "#         model.W2.copy_(torch.zeros(model.hidden_size, model.output_size))\n",
    "#         model.b2.copy_(torch.ones(model.output_size))\n",
    "#     model.train_model(11)"
   ]
  },
  {
   "cell_type": "code",
   "execution_count": 3,
   "metadata": {},
   "outputs": [],
   "source": [
    "M = Model()"
   ]
  },
  {
   "cell_type": "markdown",
   "metadata": {},
   "source": [
    "### Neural Network Weight Calculation by Human Reflection\n",
    "\n",
    "The following three cells demonstrate how a neural network's weights can be manually calculated to understand how updates affect the network. This process is aimed at providing educational insight into debugging neural networks.\n",
    "\n",
    "We consider 6 possible input scenarios and manually calculate the appropriate weights to ensure correctness for each scenario without causing errors in others.\n",
    "\n",
    "(Note: This is purely for educational purposes to understand debugging and does not alter the models themselves.)\n",
    "\n",
    "---"
   ]
  },
  {
   "cell_type": "code",
   "execution_count": 4,
   "metadata": {},
   "outputs": [
    {
     "name": "stdout",
     "output_type": "stream",
     "text": [
      "tensor([[1., 0., 1.],\n",
      "        [0., 0., 0.],\n",
      "        [0., 0., 0.]])\n",
      "-----------------\n",
      "tensor([[1., 1., 0.],\n",
      "        [0., 0., 0.],\n",
      "        [0., 0., 0.]])\n",
      "-----------------\n",
      "tensor([[0., 1., 1.],\n",
      "        [0., 0., 0.],\n",
      "        [0., 0., 0.]])\n",
      "-----------------\n",
      "tensor([[1., 0., 0.],\n",
      "        [0., 0., 0.],\n",
      "        [1., 0., 0.]])\n",
      "-----------------\n",
      "tensor([[1., 0., 0.],\n",
      "        [1., 0., 0.],\n",
      "        [0., 0., 0.]])\n",
      "-----------------\n",
      "tensor([[0., 0., 0.],\n",
      "        [1., 0., 0.],\n",
      "        [1., 0., 0.]])\n",
      "-----------------\n"
     ]
    }
   ],
   "source": [
    "mytensor1 = torch.tensor([[1,0,1],[0,0,0],[0,0,0]], dtype=torch.float32)\n",
    "mytensor1 = mytensor1.reshape(1,9)\n",
    "outtensor1 = torch.tensor([[0,2,0,0,0,0,0,0,0]], dtype=torch.float32)\n",
    "\n",
    "print(mytensor1.view(3,3))\n",
    "print(\"-----------------\")\n",
    "\n",
    "mytensor2 = torch.tensor([[1,1,0],[0,0,0],[0,0,0]], dtype=torch.float32)\n",
    "mytensor2 = mytensor2.reshape(1,9)\n",
    "outtensor2 = torch.tensor([[0,0,2,0,0,0,0,0,0]], dtype=torch.float32)\n",
    "\n",
    "print(mytensor2.view(3,3))\n",
    "print(\"-----------------\")\n",
    "\n",
    "mytensor3 = torch.tensor([[0,1,1],[0,0,0],[0,0,0]], dtype=torch.float32)\n",
    "mytensor3 = mytensor3.reshape(1,9)\n",
    "outtensor3 = torch.tensor([[2,0,0,0,0,0,0,0,0]], dtype=torch.float32)\n",
    "\n",
    "print(mytensor3.view(3,3))\n",
    "print(\"-----------------\")\n",
    "\n",
    "mytensor4 = torch.tensor([[1,0,0],[0,0,0],[1,0,0]], dtype=torch.float32)\n",
    "mytensor4 = mytensor4.reshape(1,9)\n",
    "outtensor4 = torch.tensor([[0,0,0,2,0,0,0,0,0]], dtype=torch.float32)\n",
    "\n",
    "print(mytensor4.view(3,3))\n",
    "print(\"-----------------\")\n",
    "\n",
    "mytensor5 = torch.tensor([[1,0,0],[1,0,0],[0,0,0]], dtype=torch.float32)\n",
    "mytensor5 = mytensor5.reshape(1,9)\n",
    "outtensor5 = torch.tensor([[0,0,0,0,0,0,2,0,0]], dtype=torch.float32)\n",
    "\n",
    "print(mytensor5.view(3,3))\n",
    "print(\"-----------------\")\n",
    "\n",
    "mytensor6 = torch.tensor([[0,0,0],[1,0,0],[1,0,0]], dtype=torch.float32)\n",
    "mytensor6 = mytensor6.reshape(1,9)\n",
    "outtensor6 = torch.tensor([[2,0,0,0,0,0,0,0,0]], dtype=torch.float32)\n",
    "\n",
    "print(mytensor6.view(3,3))\n",
    "print(\"-----------------\")"
   ]
  },
  {
   "cell_type": "code",
   "execution_count": 152,
   "metadata": {},
   "outputs": [
    {
     "name": "stdout",
     "output_type": "stream",
     "text": [
      "Parameter containing:\n",
      "tensor([[-2.,  2.,  0.,  2.,  0.,  0.,  0.,  0.,  0.,  0.,  0.,  0.,  0.,  0.,\n",
      "          0.,  0.,  0.,  0.,  0.,  0.,  0.,  0.,  0.,  0.,  0.,  0.,  0.,  0.,\n",
      "          0.,  0.,  0.,  0.,  0.,  0.,  0.,  0.,  0.,  0.,  0.,  0.,  0.,  0.,\n",
      "          0.,  0.,  0.,  0.,  0.,  0.,  0.,  0.,  0.,  0.,  0.,  0.],\n",
      "        [ 0., -2.,  2., -2.,  0.,  0.,  0.,  0.,  0.,  0.,  0.,  0.,  0.,  0.,\n",
      "          0.,  0.,  0.,  0.,  0.,  0.,  0.,  0.,  0.,  0.,  0.,  0.,  0.,  0.,\n",
      "          0.,  0.,  0.,  0.,  0.,  0.,  0.,  0.,  0.,  0.,  0.,  0.,  0.,  0.,\n",
      "          0.,  0.,  0.,  0.,  0.,  0.,  0.,  0.,  0.,  0.,  0.,  0.],\n",
      "        [ 2.,  0., -2., -2.,  0.,  0.,  0.,  0.,  0.,  0.,  0.,  0.,  0.,  0.,\n",
      "          0.,  0.,  0.,  0.,  0.,  0.,  0.,  0.,  0.,  0.,  0.,  0.,  0.,  0.,\n",
      "          0.,  0.,  0.,  0.,  0.,  0.,  0.,  0.,  0.,  0.,  0.,  0.,  0.,  0.,\n",
      "          0.,  0.,  0.,  0.,  0.,  0.,  0.,  0.,  0.,  0.,  0.,  0.],\n",
      "        [ 0., -2.,  0., -2.,  0.,  0.,  2.,  0.,  0.,  0.,  0.,  0.,  0.,  0.,\n",
      "          0.,  0.,  0.,  0.,  0.,  0.,  0.,  0.,  0.,  0.,  0.,  0.,  0.,  0.,\n",
      "          0.,  0.,  0.,  0.,  0.,  0.,  0.,  0.,  0.,  0.,  0.,  0.,  0.,  0.,\n",
      "          0.,  0.,  0.,  0.,  0.,  0.,  0.,  0.,  0.,  0.,  0.,  0.],\n",
      "        [ 0.,  0.,  0.,  0.,  0.,  0.,  0.,  0.,  0.,  0.,  0.,  0.,  0.,  0.,\n",
      "          0.,  0.,  0.,  0.,  0.,  0.,  0.,  0.,  0.,  0.,  0.,  0.,  0.,  0.,\n",
      "          0.,  0.,  0.,  0.,  0.,  0.,  0.,  0.,  0.,  0.,  0.,  0.,  0.,  0.,\n",
      "          0.,  0.,  0.,  0.,  0.,  0.,  0.,  0.,  0.,  0.,  0.,  0.],\n",
      "        [ 0.,  0.,  0.,  0.,  0.,  0.,  0.,  0.,  0.,  0.,  0.,  0.,  0.,  0.,\n",
      "          0.,  0.,  0.,  0.,  0.,  0.,  0.,  0.,  0.,  0.,  0.,  0.,  0.,  0.,\n",
      "          0.,  0.,  0.,  0.,  0.,  0.,  0.,  0.,  0.,  0.,  0.,  0.,  0.,  0.,\n",
      "          0.,  0.,  0.,  0.,  0.,  0.,  0.,  0.,  0.,  0.,  0.,  0.],\n",
      "        [ 2., -2.,  0.,  0.,  0.,  0., -2.,  0.,  0.,  0.,  0.,  0.,  0.,  0.,\n",
      "          0.,  0.,  0.,  0.,  0.,  0.,  0.,  0.,  0.,  0.,  0.,  0.,  0.,  0.,\n",
      "          0.,  0.,  0.,  0.,  0.,  0.,  0.,  0.,  0.,  0.,  0.,  0.,  0.,  0.,\n",
      "          0.,  0.,  0.,  0.,  0.,  0.,  0.,  0.,  0.,  0.,  0.,  0.],\n",
      "        [ 0.,  0.,  0.,  0.,  0.,  0.,  0.,  0.,  0.,  0.,  0.,  0.,  0.,  0.,\n",
      "          0.,  0.,  0.,  0.,  0.,  0.,  0.,  0.,  0.,  0.,  0.,  0.,  0.,  0.,\n",
      "          0.,  0.,  0.,  0.,  0.,  0.,  0.,  0.,  0.,  0.,  0.,  0.,  0.,  0.,\n",
      "          0.,  0.,  0.,  0.,  0.,  0.,  0.,  0.,  0.,  0.,  0.,  0.],\n",
      "        [ 0.,  0.,  0.,  0.,  0.,  0.,  0.,  0.,  0.,  0.,  0.,  0.,  0.,  0.,\n",
      "          0.,  0.,  0.,  0.,  0.,  0.,  0.,  0.,  0.,  0.,  0.,  0.,  0.,  0.,\n",
      "          0.,  0.,  0.,  0.,  0.,  0.,  0.,  0.,  0.,  0.,  0.,  0.,  0.,  0.,\n",
      "          0.,  0.,  0.,  0.,  0.,  0.,  0.,  0.,  0.,  0.,  0.,  0.]],\n",
      "       requires_grad=True)\n"
     ]
    }
   ],
   "source": [
    "with torch.no_grad():\n",
    "    M.W1.copy_(torch.zeros(M.input_size, M.hidden_size))\n",
    "    M.b1.copy_(torch.zeros(M.hidden_size))\n",
    "    M.W2.copy_(torch.zeros(M.hidden_size, M.output_size))\n",
    "    M.b2.copy_(torch.zeros(M.output_size))\n",
    "\n",
    "    M.W1[0, 1] = 2\n",
    "    M.W1[0, 0] = -2\n",
    "    M.W1[0, 3] = 2\n",
    "\n",
    "    M.W1[1,1] = -2\n",
    "    M.W1[1, 2] = 2\n",
    "    M.W1[1, 3] = -2\n",
    "        \n",
    "    M.W1[2, 0] = 2\n",
    "    M.W1[2, 2] = -2\n",
    "    M.W1[2 , 3] = - 2\n",
    "    \n",
    "    M.W1[3, 6] = 2\n",
    "    M.W1[3 ,3] = -2\n",
    "    M.W1[3, 1] = -2\n",
    "    \n",
    "    M.W1[6, 1] = -2\n",
    "    M.W1[6, 6] = -2\n",
    "    M.W1[6, 0] = 2\n",
    "    M.W2[0:M.output_size , 0:M.output_size] = torch.eye(M.output_size)\n",
    "print(M.W1)\n",
    "# print(M.b1)\n",
    "# print(M.W2)"
   ]
  },
  {
   "cell_type": "code",
   "execution_count": 153,
   "metadata": {},
   "outputs": [
    {
     "name": "stdout",
     "output_type": "stream",
     "text": [
      "tensor([[0., 0., 0., 1., 0., 0., 1., 0., 0.]])\n",
      "----------------\n",
      "tensor([[2., 0., 0., 0., 0., 0., 0., 0., 0.]], grad_fn=<AddBackward0>)\n",
      "----------------\n",
      "Excepted \n",
      "tensor([[0., 0., 2., 0., 0., 0., 0., 0., 0.]])\n",
      "----------------\n",
      "Output argmax :\n"
     ]
    },
    {
     "data": {
      "text/plain": [
       "tensor(0)"
      ]
     },
     "execution_count": 153,
     "metadata": {},
     "output_type": "execute_result"
    }
   ],
   "source": [
    "output = M.forward(mytensor6)\n",
    "x0 = M.x0\n",
    "x1 = M.x1\n",
    "x2 = M.x2\n",
    "x3 = M.x3\n",
    "\n",
    "print(x0)\n",
    "print(\"----------------\")\n",
    "print(output)\n",
    "print(\"----------------\")\n",
    "print(\"Excepted \")\n",
    "print(outtensor2)\n",
    "print(\"----------------\")\n",
    "print(\"Output argmax :\")\n",
    "output.argmax()\n",
    "# loss = mytensor2 - outtensor2\n",
    "# loss.sum()"
   ]
  },
  {
   "cell_type": "code",
   "execution_count": 154,
   "metadata": {},
   "outputs": [],
   "source": [
    "f1 = lambda in0, out0: out0-in0\n",
    "# example of how work lambda function"
   ]
  },
  {
   "cell_type": "code",
   "execution_count": null,
   "metadata": {},
   "outputs": [],
   "source": []
  },
  {
   "cell_type": "markdown",
   "metadata": {},
   "source": [
    "### Neural Network Weight Calculation by Machine Reflection\n",
    "\n",
    "The following three cells demonstrate how a neural network's weights can be calculated using machine reflection to understand how updates affect the network. This process is aimed at providing educational insight into debugging neural networks.\n",
    "\n",
    "For each line of code, we'll reflect on the machine's operations to ensure correctness. We consider 6 possible input scenarios and calculate the appropriate weights to ensure they are correct for each scenario without causing errors in others.\n",
    "\n",
    "The values are manually updated based on the results of the backpropagation provided by the model.\n",
    "\n",
    "The dataset for training will be composed only of the 6 tensor that you seen above and will be in the ./Datasets/debug.csv\n",
    "\n",
    "(Note: This is purely for educational purposes to understand debugging through machine reflection and does not alter the models themselves.)\n",
    "\n",
    "---"
   ]
  },
  {
   "cell_type": "code",
   "execution_count": 38,
   "metadata": {},
   "outputs": [],
   "source": [
    "with torch.enable_grad():\n",
    "    M.W1 = nn.Parameter(torch.randn(M.input_size, M.hidden_size))\n",
    "    \n",
    "    M.b1 = nn.Parameter(torch.randn(M.hidden_size))\n",
    "    M.W2 = nn.Parameter(torch.randn(M.hidden_size, M.output_size))\n",
    "    M.b2 = nn.Parameter(torch.randn(M.output_size))"
   ]
  },
  {
   "cell_type": "code",
   "execution_count": 50,
   "metadata": {},
   "outputs": [],
   "source": [
    "W1_backup = M.W1"
   ]
  },
  {
   "cell_type": "code",
   "execution_count": 77,
   "metadata": {},
   "outputs": [
    {
     "name": "stdout",
     "output_type": "stream",
     "text": [
      "tensor([[1., 0., 1., 0., 0., 0., 0., 0., 0.],\n",
      "        [1., 1., 0., 0., 0., 0., 0., 0., 0.],\n",
      "        [0., 1., 1., 0., 0., 0., 0., 0., 0.],\n",
      "        [1., 0., 0., 0., 0., 0., 1., 0., 0.],\n",
      "        [1., 0., 0., 1., 0., 0., 0., 0., 0.],\n",
      "        [0., 0., 0., 1., 0., 0., 1., 0., 0.]])\n"
     ]
    }
   ],
   "source": [
    "#prepare the data for training,\n",
    "# we don't split the data because we will evaluate manually\n",
    "path = './Datasets/debug.csv'\n",
    "\n",
    "loader = CSVToTensor(path)\n",
    "loader.create_all_tensor()\n",
    "\n",
    "inputdata = DataLoader(loader.game_tensor, batch_size=3, shuffle=True)\n",
    "outputdata =\n",
    "print(inputdata.dataset)"
   ]
  },
  {
   "cell_type": "code",
   "execution_count": 79,
   "metadata": {},
   "outputs": [
    {
     "ename": "ValueError",
     "evalue": "too many values to unpack (expected 2)",
     "output_type": "error",
     "traceback": [
      "\u001b[1;31m---------------------------------------------------------------------------\u001b[0m",
      "\u001b[1;31mValueError\u001b[0m                                Traceback (most recent call last)",
      "\u001b[1;32mc:\\Users\\USER\\stage\\tic_tac_toe_AI\\model.ipynb Cell 14\u001b[0m line \u001b[0;36m4\n\u001b[0;32m      <a href='vscode-notebook-cell:/c%3A/Users/USER/stage/tic_tac_toe_AI/model.ipynb#X14sZmlsZQ%3D%3D?line=1'>2</a>\u001b[0m \u001b[39mfor\u001b[39;00m _ \u001b[39min\u001b[39;00m \u001b[39mrange\u001b[39m(\u001b[39m1\u001b[39m):\n\u001b[0;32m      <a href='vscode-notebook-cell:/c%3A/Users/USER/stage/tic_tac_toe_AI/model.ipynb#X14sZmlsZQ%3D%3D?line=2'>3</a>\u001b[0m     i \u001b[39m=\u001b[39m \u001b[39m0\u001b[39m\n\u001b[1;32m----> <a href='vscode-notebook-cell:/c%3A/Users/USER/stage/tic_tac_toe_AI/model.ipynb#X14sZmlsZQ%3D%3D?line=3'>4</a>\u001b[0m     \u001b[39mfor\u001b[39;00m src, trg \u001b[39min\u001b[39;00m inputdata:\n\u001b[0;32m      <a href='vscode-notebook-cell:/c%3A/Users/USER/stage/tic_tac_toe_AI/model.ipynb#X14sZmlsZQ%3D%3D?line=5'>6</a>\u001b[0m         M\u001b[39m.\u001b[39moptimizer\u001b[39m.\u001b[39mzero_grad()\n\u001b[0;32m      <a href='vscode-notebook-cell:/c%3A/Users/USER/stage/tic_tac_toe_AI/model.ipynb#X14sZmlsZQ%3D%3D?line=7'>8</a>\u001b[0m         \u001b[39mprint\u001b[39m(\u001b[39m\"\u001b[39m\u001b[39mInput:\u001b[39m\u001b[39m\\t\u001b[39;00m\u001b[39m\"\u001b[39m, src)\n",
      "\u001b[1;31mValueError\u001b[0m: too many values to unpack (expected 2)"
     ]
    }
   ],
   "source": [
    "with torch.enable_grad():\n",
    "    for _ in range(1):\n",
    "        i = 0\n",
    "        for src, trg in inputdata:\n",
    "\n",
    "            M.optimizer.zero_grad()\n",
    "\n",
    "            print(\"Input:\\t\", src)\n",
    "            print(\"In the model: \\t\", M.x0)\n",
    "            output = M.forward(src)\n",
    "            print(\"Output:\\t\", output)\n",
    "\n",
    "            loss = (output - loader.prediction_tensor[i]).sum()\n",
    "            print(\"Loss:\\t\", loss)\n",
    "\n",
    "            loss.backward()\n",
    "            print(\"Gradients after backward pass:\")\n",
    "\n",
    "            for name, param in M.named_parameters():\n",
    "                if param.grad is not None:\n",
    "                    print(f\"{name}.grad:\\t\", param.grad)\n",
    "\n",
    "            M.optimizer.step()\n",
    "\n",
    "            print(\"Updated parameters:\")\n",
    "            for name, param in M.named_parameters():\n",
    "                print(f\"{name}:\\t\", param.data)\n",
    "\n",
    "            i += 1\n",
    "            print(\"---------------------------------------------------\")"
   ]
  },
  {
   "cell_type": "code",
   "execution_count": 39,
   "metadata": {},
   "outputs": [
    {
     "name": "stdout",
     "output_type": "stream",
     "text": [
      "output : tensor([14.5851, -9.3917,  9.3108,  7.2891,  1.5164, 15.5351,  1.7170,  0.2508,\n",
      "        -6.8269], grad_fn=<AddBackward0>)\n",
      "prediction : tensor([0., 2., 0., 0., 0., 0., 0., 0., 0.])\n",
      "tensor(31.9856, grad_fn=<SumBackward0>)\n",
      "tensor([[ 0.0000, -4.0823,  7.6509,  0.0000, -0.0931,  0.1976,  0.0000,  0.0000,\n",
      "          0.0000,  0.0000,  0.0000,  0.0000,  0.0000,  0.0000,  3.7337,  0.0000,\n",
      "          0.6392,  0.0000,  0.0000,  3.9981, -4.2550,  0.9692,  0.0000,  0.1386,\n",
      "          0.0000, -1.0487,  0.0000,  1.8483,  0.0000,  0.0000,  0.0000, -0.2578,\n",
      "          0.0000,  0.0000, -2.4139,  2.8677,  0.0000, -0.4256,  0.0000,  4.0822,\n",
      "          0.0000, -1.2120,  0.0000,  4.3437,  0.0000,  2.9954,  0.0000, -2.1082,\n",
      "          0.0000,  3.2973,  0.0000,  0.0000,  0.0000,  0.0000],\n",
      "        [ 0.0000, -0.0000,  0.0000,  0.0000, -0.0000,  0.0000,  0.0000,  0.0000,\n",
      "          0.0000,  0.0000,  0.0000,  0.0000,  0.0000,  0.0000,  0.0000,  0.0000,\n",
      "          0.0000,  0.0000,  0.0000,  0.0000, -0.0000,  0.0000,  0.0000,  0.0000,\n",
      "          0.0000, -0.0000,  0.0000,  0.0000,  0.0000,  0.0000,  0.0000, -0.0000,\n",
      "          0.0000,  0.0000, -0.0000,  0.0000,  0.0000, -0.0000,  0.0000,  0.0000,\n",
      "          0.0000, -0.0000,  0.0000,  0.0000,  0.0000,  0.0000,  0.0000, -0.0000,\n",
      "          0.0000,  0.0000,  0.0000,  0.0000,  0.0000,  0.0000],\n",
      "        [ 0.0000, -4.0823,  7.6509,  0.0000, -0.0931,  0.1976,  0.0000,  0.0000,\n",
      "          0.0000,  0.0000,  0.0000,  0.0000,  0.0000,  0.0000,  3.7337,  0.0000,\n",
      "          0.6392,  0.0000,  0.0000,  3.9981, -4.2550,  0.9692,  0.0000,  0.1386,\n",
      "          0.0000, -1.0487,  0.0000,  1.8483,  0.0000,  0.0000,  0.0000, -0.2578,\n",
      "          0.0000,  0.0000, -2.4139,  2.8677,  0.0000, -0.4256,  0.0000,  4.0822,\n",
      "          0.0000, -1.2120,  0.0000,  4.3437,  0.0000,  2.9954,  0.0000, -2.1082,\n",
      "          0.0000,  3.2973,  0.0000,  0.0000,  0.0000,  0.0000],\n",
      "        [ 0.0000, -0.0000,  0.0000,  0.0000, -0.0000,  0.0000,  0.0000,  0.0000,\n",
      "          0.0000,  0.0000,  0.0000,  0.0000,  0.0000,  0.0000,  0.0000,  0.0000,\n",
      "          0.0000,  0.0000,  0.0000,  0.0000, -0.0000,  0.0000,  0.0000,  0.0000,\n",
      "          0.0000, -0.0000,  0.0000,  0.0000,  0.0000,  0.0000,  0.0000, -0.0000,\n",
      "          0.0000,  0.0000, -0.0000,  0.0000,  0.0000, -0.0000,  0.0000,  0.0000,\n",
      "          0.0000, -0.0000,  0.0000,  0.0000,  0.0000,  0.0000,  0.0000, -0.0000,\n",
      "          0.0000,  0.0000,  0.0000,  0.0000,  0.0000,  0.0000],\n",
      "        [ 0.0000, -0.0000,  0.0000,  0.0000, -0.0000,  0.0000,  0.0000,  0.0000,\n",
      "          0.0000,  0.0000,  0.0000,  0.0000,  0.0000,  0.0000,  0.0000,  0.0000,\n",
      "          0.0000,  0.0000,  0.0000,  0.0000, -0.0000,  0.0000,  0.0000,  0.0000,\n",
      "          0.0000, -0.0000,  0.0000,  0.0000,  0.0000,  0.0000,  0.0000, -0.0000,\n",
      "          0.0000,  0.0000, -0.0000,  0.0000,  0.0000, -0.0000,  0.0000,  0.0000,\n",
      "          0.0000, -0.0000,  0.0000,  0.0000,  0.0000,  0.0000,  0.0000, -0.0000,\n",
      "          0.0000,  0.0000,  0.0000,  0.0000,  0.0000,  0.0000],\n",
      "        [ 0.0000, -0.0000,  0.0000,  0.0000, -0.0000,  0.0000,  0.0000,  0.0000,\n",
      "          0.0000,  0.0000,  0.0000,  0.0000,  0.0000,  0.0000,  0.0000,  0.0000,\n",
      "          0.0000,  0.0000,  0.0000,  0.0000, -0.0000,  0.0000,  0.0000,  0.0000,\n",
      "          0.0000, -0.0000,  0.0000,  0.0000,  0.0000,  0.0000,  0.0000, -0.0000,\n",
      "          0.0000,  0.0000, -0.0000,  0.0000,  0.0000, -0.0000,  0.0000,  0.0000,\n",
      "          0.0000, -0.0000,  0.0000,  0.0000,  0.0000,  0.0000,  0.0000, -0.0000,\n",
      "          0.0000,  0.0000,  0.0000,  0.0000,  0.0000,  0.0000],\n",
      "        [ 0.0000, -0.0000,  0.0000,  0.0000, -0.0000,  0.0000,  0.0000,  0.0000,\n",
      "          0.0000,  0.0000,  0.0000,  0.0000,  0.0000,  0.0000,  0.0000,  0.0000,\n",
      "          0.0000,  0.0000,  0.0000,  0.0000, -0.0000,  0.0000,  0.0000,  0.0000,\n",
      "          0.0000, -0.0000,  0.0000,  0.0000,  0.0000,  0.0000,  0.0000, -0.0000,\n",
      "          0.0000,  0.0000, -0.0000,  0.0000,  0.0000, -0.0000,  0.0000,  0.0000,\n",
      "          0.0000, -0.0000,  0.0000,  0.0000,  0.0000,  0.0000,  0.0000, -0.0000,\n",
      "          0.0000,  0.0000,  0.0000,  0.0000,  0.0000,  0.0000],\n",
      "        [ 0.0000, -0.0000,  0.0000,  0.0000, -0.0000,  0.0000,  0.0000,  0.0000,\n",
      "          0.0000,  0.0000,  0.0000,  0.0000,  0.0000,  0.0000,  0.0000,  0.0000,\n",
      "          0.0000,  0.0000,  0.0000,  0.0000, -0.0000,  0.0000,  0.0000,  0.0000,\n",
      "          0.0000, -0.0000,  0.0000,  0.0000,  0.0000,  0.0000,  0.0000, -0.0000,\n",
      "          0.0000,  0.0000, -0.0000,  0.0000,  0.0000, -0.0000,  0.0000,  0.0000,\n",
      "          0.0000, -0.0000,  0.0000,  0.0000,  0.0000,  0.0000,  0.0000, -0.0000,\n",
      "          0.0000,  0.0000,  0.0000,  0.0000,  0.0000,  0.0000],\n",
      "        [ 0.0000, -0.0000,  0.0000,  0.0000, -0.0000,  0.0000,  0.0000,  0.0000,\n",
      "          0.0000,  0.0000,  0.0000,  0.0000,  0.0000,  0.0000,  0.0000,  0.0000,\n",
      "          0.0000,  0.0000,  0.0000,  0.0000, -0.0000,  0.0000,  0.0000,  0.0000,\n",
      "          0.0000, -0.0000,  0.0000,  0.0000,  0.0000,  0.0000,  0.0000, -0.0000,\n",
      "          0.0000,  0.0000, -0.0000,  0.0000,  0.0000, -0.0000,  0.0000,  0.0000,\n",
      "          0.0000, -0.0000,  0.0000,  0.0000,  0.0000,  0.0000,  0.0000, -0.0000,\n",
      "          0.0000,  0.0000,  0.0000,  0.0000,  0.0000,  0.0000]])\n"
     ]
    }
   ],
   "source": [
    "with torch.enable_grad():\n",
    "    i = 0\n",
    "    \n",
    "    src = inputdata.dataset[0]\n",
    "\n",
    "    output = M.forward(src)\n",
    "    \n",
    "    print(\"output :\", output)\n",
    "\n",
    "    print(\"prediction :\", loader.prediction_tensor[i])\n",
    "\n",
    "    loss = (output - loader.prediction_tensor[i]).sum()\n",
    "    print(loss)\n",
    "    loss.backward()\n",
    "    print(M.W1.grad)\n",
    "\n"
   ]
  },
  {
   "cell_type": "code",
   "execution_count": 83,
   "metadata": {},
   "outputs": [
    {
     "name": "stdout",
     "output_type": "stream",
     "text": [
      "tensor([[  8.5642,  -2.4050,  -3.6986,   8.8551,   7.3905,  11.7749,   3.9249,\n",
      "           3.0929, -14.5921],\n",
      "        [  9.6147, -10.4931,   4.9174,   3.2626,   0.3424,   6.4550,  -1.3300,\n",
      "           0.7618, -11.5593],\n",
      "        [ 15.9046,  -2.8779,   0.2119,   6.2596,   6.4786,  14.1475,   6.4079,\n",
      "          -0.1375,   0.0965]])\n",
      "tensor(171.5567)\n",
      "tensor(40.9427)\n"
     ]
    }
   ],
   "source": [
    "with torch.no_grad():\n",
    "\n",
    "    M.W1 -= (M.W1.grad) * 0.0001\n",
    "    newoutput = M.forward(src)\n",
    "    print(newoutput)\n",
    "    newloss = torch.abs(newoutput - loader.prediction_tensor[i]).sum()\n",
    "    print(newloss)\n",
    "    newloss = torch.pow(newoutput - loader.prediction_tensor[i], 2).sum().sqrt()\n",
    "    print(newloss)\n",
    "    M.W1.grad = M.W1.grad * 0\n",
    "    "
   ]
  },
  {
   "cell_type": "code",
   "execution_count": 73,
   "metadata": {},
   "outputs": [
    {
     "name": "stdout",
     "output_type": "stream",
     "text": [
      "tensor([0., 2., 0., 0., 0., 0., 0., 0., 0.])\n"
     ]
    }
   ],
   "source": [
    "print(loader.prediction_tensor[i])"
   ]
  }
 ],
 "metadata": {
  "kernelspec": {
   "display_name": "Python 3",
   "language": "python",
   "name": "python3"
  },
  "language_info": {
   "codemirror_mode": {
    "name": "ipython",
    "version": 3
   },
   "file_extension": ".py",
   "mimetype": "text/x-python",
   "name": "python",
   "nbconvert_exporter": "python",
   "pygments_lexer": "ipython3",
   "version": "3.11.2"
  }
 },
 "nbformat": 4,
 "nbformat_minor": 2
}
